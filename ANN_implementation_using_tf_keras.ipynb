{
  "nbformat": 4,
  "nbformat_minor": 0,
  "metadata": {
    "colab": {
      "provenance": [],
      "collapsed_sections": [],
      "authorship_tag": "ABX9TyPTHEZ3G6D5SBOC4sNusRtO",
      "include_colab_link": true
    },
    "kernelspec": {
      "name": "python3",
      "display_name": "Python 3"
    },
    "language_info": {
      "name": "python"
    },
    "accelerator": "GPU",
    "gpuClass": "standard"
  },
  "cells": [
    {
      "cell_type": "markdown",
      "metadata": {
        "id": "view-in-github",
        "colab_type": "text"
      },
      "source": [
        "<a href=\"https://colab.research.google.com/github/AnjaliAM/Artifical-Neural-Networks/blob/main/ANN_implementation_using_tf_keras.ipynb\" target=\"_parent\"><img src=\"https://colab.research.google.com/assets/colab-badge.svg\" alt=\"Open In Colab\"/></a>"
      ]
    },
    {
      "cell_type": "code",
      "source": [],
      "metadata": {
        "id": "5RAFpdr53R1s"
      },
      "execution_count": null,
      "outputs": []
    },
    {
      "cell_type": "code",
      "source": [],
      "metadata": {
        "id": "NSrchuu73RsV"
      },
      "execution_count": null,
      "outputs": []
    },
    {
      "cell_type": "code",
      "source": [],
      "metadata": {
        "id": "7x12hyaT3Rdm"
      },
      "execution_count": null,
      "outputs": []
    },
    {
      "cell_type": "markdown",
      "source": [
        "A simple classifier using keras's Sequential API"
      ],
      "metadata": {
        "id": "iw13vw7Krn01"
      }
    },
    {
      "cell_type": "markdown",
      "source": [
        "* It's a dataset of handwritten digits\n",
        "8 each dataoint is 2d array of 28x28\n",
        "* It has 10 clases 0-9\n",
        "* aka hello world for ANN"
      ],
      "metadata": {
        "id": "iR4bz1VWrt91"
      }
    },
    {
      "cell_type": "markdown",
      "source": [],
      "metadata": {
        "id": "lS1yA8Ax3Pfr"
      }
    },
    {
      "cell_type": "code",
      "source": [
        "import numpy as np\n",
        "import matplotlib.pyplot as plt\n",
        "import pandas as pd\n",
        "import tensorflow as tf\n",
        "import os"
      ],
      "metadata": {
        "id": "wD1ZCt7frG9N"
      },
      "execution_count": null,
      "outputs": []
    },
    {
      "cell_type": "code",
      "source": [
        "mnist= tf.keras.datasets.mnist\n",
        "(X_train_full,y_train_full),(X_test,y_test)=mnist.load_data()"
      ],
      "metadata": {
        "colab": {
          "base_uri": "https://localhost:8080/"
        },
        "id": "cQryRXxXrnUD",
        "outputId": "26f15799-ace7-4a9e-cc33-b333cc03b729"
      },
      "execution_count": null,
      "outputs": [
        {
          "output_type": "stream",
          "name": "stdout",
          "text": [
            "Downloading data from https://storage.googleapis.com/tensorflow/tf-keras-datasets/mnist.npz\n",
            "11490434/11490434 [==============================] - 0s 0us/step\n"
          ]
        }
      ]
    },
    {
      "cell_type": "code",
      "source": [
        "X_train_full.shape,X_train_full.dtype   # unint = unsigned integer whose value lies b/w 0 to 255"
      ],
      "metadata": {
        "colab": {
          "base_uri": "https://localhost:8080/"
        },
        "id": "b7cFZqXYsMlv",
        "outputId": "acd7f67e-e2f1-4939-b3c3-6cff9a62965b"
      },
      "execution_count": null,
      "outputs": [
        {
          "output_type": "execute_result",
          "data": {
            "text/plain": [
              "((60000, 28, 28), dtype('uint8'))"
            ]
          },
          "metadata": {},
          "execution_count": 3
        }
      ]
    },
    {
      "cell_type": "code",
      "source": [
        "y_train_full.shape,y_train_full.dtype"
      ],
      "metadata": {
        "colab": {
          "base_uri": "https://localhost:8080/"
        },
        "id": "XzTPF8RntN_9",
        "outputId": "da613f33-49fd-4029-e8cc-4672ddab4659"
      },
      "execution_count": null,
      "outputs": [
        {
          "output_type": "execute_result",
          "data": {
            "text/plain": [
              "((60000,), dtype('uint8'))"
            ]
          },
          "metadata": {},
          "execution_count": 4
        }
      ]
    },
    {
      "cell_type": "code",
      "source": [
        "X_test.shape,X_test.dtype"
      ],
      "metadata": {
        "colab": {
          "base_uri": "https://localhost:8080/"
        },
        "id": "jKk_2alZs1Q1",
        "outputId": "a2e02058-4240-49db-9f1e-173d7d58efbf"
      },
      "execution_count": null,
      "outputs": [
        {
          "output_type": "execute_result",
          "data": {
            "text/plain": [
              "((10000, 28, 28), dtype('uint8'))"
            ]
          },
          "metadata": {},
          "execution_count": 5
        }
      ]
    },
    {
      "cell_type": "code",
      "source": [
        "X_test.shape,y_test.shape"
      ],
      "metadata": {
        "colab": {
          "base_uri": "https://localhost:8080/"
        },
        "id": "ac0lGoY-uMvi",
        "outputId": "f4d0122d-0534-437f-9c15-2ebea3cc8eab"
      },
      "execution_count": null,
      "outputs": [
        {
          "output_type": "execute_result",
          "data": {
            "text/plain": [
              "((10000, 28, 28), (10000,))"
            ]
          },
          "metadata": {},
          "execution_count": 6
        }
      ]
    },
    {
      "cell_type": "code",
      "source": [
        "X_valid , X_train = X_train_full[: 5000] / 255., X_train_full[5000: ]/255\n",
        "y_valid, y_train = y_train_full[: 5000], y_train_full[5000:]\n",
        "\n",
        "X_test = X_test/255\n",
        "          \n",
        "\n",
        " "
      ],
      "metadata": {
        "id": "YruPT_BxtNKf"
      },
      "execution_count": null,
      "outputs": []
    },
    {
      "cell_type": "code",
      "source": [
        "plt.imshow(X_train[0],cmap=\"binary\")\n",
        "plt.axis(\"off\")\n",
        "plt.show()\n",
        "y_train[0]\n",
        "       "
      ],
      "metadata": {
        "colab": {
          "base_uri": "https://localhost:8080/",
          "height": 266
        },
        "id": "xJss868EtlzP",
        "outputId": "7132ebc3-3fec-438c-d746-012ffecb6ee6"
      },
      "execution_count": null,
      "outputs": [
        {
          "output_type": "display_data",
          "data": {
            "text/plain": [
              "<Figure size 432x288 with 1 Axes>"
            ],
            "image/png": "[encoded data removed]"
          },
          "metadata": {
            "needs_background": "light"
          }
        },
        {
          "output_type": "execute_result",
          "data": {
            "text/plain": [
              "7"
            ]
          },
          "metadata": {},
          "execution_count": 8
        }
      ]
    },
    {
      "cell_type": "code",
      "source": [
        "import seaborn as sns\n",
        "plt.figure(figsize=(15,15))\n",
        "sns.heatmap(X_train[0], annot = True, cmap= \"binary\")"
      ],
      "metadata": {
        "colab": {
          "base_uri": "https://localhost:8080/",
          "height": 881
        },
        "id": "oMEsgb9IvyBu",
        "outputId": "e00302f6-97c5-4ad8-bd03-d4af373cbd3c"
      },
      "execution_count": null,
      "outputs": [
        {
          "output_type": "execute_result",
          "data": {
            "text/plain": [
              "<matplotlib.axes._subplots.AxesSubplot at 0x7f11711b5490>"
            ]
          },
          "metadata": {},
          "execution_count": 9
        },
        {
          "output_type": "display_data",
          "data": {
            "text/plain": [
              "<Figure size 1080x1080 with 2 Axes>"
            ],
            "image/png": "[encoded data removed]"
          },
          "metadata": {
            "needs_background": "light"
          }
        }
      ]
    },
    {
      "cell_type": "code",
      "source": [
        "LAYERS = [\n",
        "    tf.keras.layers.Flatten(input_shape=[28,28],name=\"inputLayer\"),\n",
        "    tf.keras.layers.Dense(300,activation=\"relu\",name=\"hiddenLayer1\"),\n",
        "    tf.keras.layers.Dense(100,activation=\"relu\",name=\"hiddenLayer2\"),\n",
        "    tf.keras.layers.Dense(10,activation=\"softmax\",name=\"outputLayer\"),\n",
        "\n",
        "]\n",
        " "
      ],
      "metadata": {
        "id": "xn_k4kIowwQg"
      },
      "execution_count": null,
      "outputs": []
    },
    {
      "cell_type": "code",
      "source": [
        "model = tf.keras.models.Sequential(LAYERS)"
      ],
      "metadata": {
        "id": "FrzJ_koUR1Hm"
      },
      "execution_count": null,
      "outputs": []
    },
    {
      "cell_type": "code",
      "source": [
        "model.layers"
      ],
      "metadata": {
        "colab": {
          "base_uri": "https://localhost:8080/"
        },
        "id": "CzoBA1oGSXuM",
        "outputId": "0acd8bd6-8c1e-4550-96a8-11513d776691"
      },
      "execution_count": null,
      "outputs": [
        {
          "output_type": "execute_result",
          "data": {
            "text/plain": [
              "[<keras.layers.reshaping.flatten.Flatten at 0x7f116db74e90>,\n",
              " <keras.layers.core.dense.Dense at 0x7f117206dbd0>,\n",
              " <keras.layers.core.dense.Dense at 0x7f11718a5750>,\n",
              " <keras.layers.core.dense.Dense at 0x7f11718a56d0>]"
            ]
          },
          "metadata": {},
          "execution_count": 12
        }
      ]
    },
    {
      "cell_type": "code",
      "source": [
        "model.summary()"
      ],
      "metadata": {
        "colab": {
          "base_uri": "https://localhost:8080/"
        },
        "id": "mu2LCr-ISaZA",
        "outputId": "14a83ac4-7d86-4180-e202-5cdf92cde74c"
      },
      "execution_count": null,
      "outputs": [
        {
          "output_type": "stream",
          "name": "stdout",
          "text": [
            "Model: \"sequential\"\n",
            "_________________________________________________________________\n",
            " Layer (type)                Output Shape              Param #   \n",
            "=================================================================\n",
            " inputLayer (Flatten)        (None, 784)               0         \n",
            "                                                                 \n",
            " hiddenLayer1 (Dense)        (None, 300)               235500    \n",
            "                                                                 \n",
            " hiddenLayer2 (Dense)        (None, 100)               30100     \n",
            "                                                                 \n",
            " outputLayer (Dense)         (None, 10)                1010      \n",
            "                                                                 \n",
            "=================================================================\n",
            "Total params: 266,610\n",
            "Trainable params: 266,610\n",
            "Non-trainable params: 0\n",
            "_________________________________________________________________\n"
          ]
        }
      ]
    },
    {
      "cell_type": "code",
      "source": [
        "784*300+300 , 300 * 100 + 100, 100 * 10 + 10"
      ],
      "metadata": {
        "colab": {
          "base_uri": "https://localhost:8080/"
        },
        "id": "raYI_QikShuk",
        "outputId": "7bb5d39c-858b-4168-b8bb-ab7c8a9c1a9b"
      },
      "execution_count": null,
      "outputs": [
        {
          "output_type": "execute_result",
          "data": {
            "text/plain": [
              "(235500, 30100, 1010)"
            ]
          },
          "metadata": {},
          "execution_count": 14
        }
      ]
    },
    {
      "cell_type": "code",
      "source": [
        "sum([784*300+300 , 300 * 100 + 100, 100 * 10 + 10])"
      ],
      "metadata": {
        "colab": {
          "base_uri": "https://localhost:8080/"
        },
        "id": "GABYARt3TUo2",
        "outputId": "6992de8d-0c5f-4e00-e196-6b867713d547"
      },
      "execution_count": null,
      "outputs": [
        {
          "output_type": "execute_result",
          "data": {
            "text/plain": [
              "266610"
            ]
          },
          "metadata": {},
          "execution_count": 15
        }
      ]
    },
    {
      "cell_type": "code",
      "source": [
        "hidden1 = model.layers[1]\n",
        "\n",
        "model.get_layer(hidden1.name)"
      ],
      "metadata": {
        "colab": {
          "base_uri": "https://localhost:8080/"
        },
        "id": "q4gMEYWZTYq-",
        "outputId": "d28c2977-0a3a-406f-f578-12daed4eabf0"
      },
      "execution_count": null,
      "outputs": [
        {
          "output_type": "execute_result",
          "data": {
            "text/plain": [
              "<keras.layers.core.dense.Dense at 0x7f117206dbd0>"
            ]
          },
          "metadata": {},
          "execution_count": 16
        }
      ]
    },
    {
      "cell_type": "code",
      "source": [
        "hidden1.get_weights()"
      ],
      "metadata": {
        "colab": {
          "base_uri": "https://localhost:8080/"
        },
        "id": "elk3GYFnTpxD",
        "outputId": "4f7140b9-dd11-4874-8344-1ccfe8370b40"
      },
      "execution_count": null,
      "outputs": [
        {
          "output_type": "execute_result",
          "data": {
            "text/plain": [
              "[array([[-0.06795959,  0.04399529,  0.0676935 , ...,  0.06999397,\n",
              "          0.06621644,  0.06052345],\n",
              "        [ 0.03053384,  0.06489314, -0.04970645, ...,  0.02644999,\n",
              "         -0.07428603,  0.04409916],\n",
              "        [ 0.02347007,  0.01688424, -0.05076686, ..., -0.06774752,\n",
              "          0.06346732,  0.02121857],\n",
              "        ...,\n",
              "        [-0.01889817, -0.0028173 , -0.04986751, ...,  0.06320785,\n",
              "          0.00092538, -0.06670401],\n",
              "        [ 0.04834161,  0.04425509,  0.03880312, ..., -0.00480817,\n",
              "         -0.01029494, -0.00461409],\n",
              "        [-0.0304592 ,  0.01617146, -0.01537606, ...,  0.00425909,\n",
              "          0.02864058,  0.05684227]], dtype=float32),\n",
              " array([0., 0., 0., 0., 0., 0., 0., 0., 0., 0., 0., 0., 0., 0., 0., 0., 0.,\n",
              "        0., 0., 0., 0., 0., 0., 0., 0., 0., 0., 0., 0., 0., 0., 0., 0., 0.,\n",
              "        0., 0., 0., 0., 0., 0., 0., 0., 0., 0., 0., 0., 0., 0., 0., 0., 0.,\n",
              "        0., 0., 0., 0., 0., 0., 0., 0., 0., 0., 0., 0., 0., 0., 0., 0., 0.,\n",
              "        0., 0., 0., 0., 0., 0., 0., 0., 0., 0., 0., 0., 0., 0., 0., 0., 0.,\n",
              "        0., 0., 0., 0., 0., 0., 0., 0., 0., 0., 0., 0., 0., 0., 0., 0., 0.,\n",
              "        0., 0., 0., 0., 0., 0., 0., 0., 0., 0., 0., 0., 0., 0., 0., 0., 0.,\n",
              "        0., 0., 0., 0., 0., 0., 0., 0., 0., 0., 0., 0., 0., 0., 0., 0., 0.,\n",
              "        0., 0., 0., 0., 0., 0., 0., 0., 0., 0., 0., 0., 0., 0., 0., 0., 0.,\n",
              "        0., 0., 0., 0., 0., 0., 0., 0., 0., 0., 0., 0., 0., 0., 0., 0., 0.,\n",
              "        0., 0., 0., 0., 0., 0., 0., 0., 0., 0., 0., 0., 0., 0., 0., 0., 0.,\n",
              "        0., 0., 0., 0., 0., 0., 0., 0., 0., 0., 0., 0., 0., 0., 0., 0., 0.,\n",
              "        0., 0., 0., 0., 0., 0., 0., 0., 0., 0., 0., 0., 0., 0., 0., 0., 0.,\n",
              "        0., 0., 0., 0., 0., 0., 0., 0., 0., 0., 0., 0., 0., 0., 0., 0., 0.,\n",
              "        0., 0., 0., 0., 0., 0., 0., 0., 0., 0., 0., 0., 0., 0., 0., 0., 0.,\n",
              "        0., 0., 0., 0., 0., 0., 0., 0., 0., 0., 0., 0., 0., 0., 0., 0., 0.,\n",
              "        0., 0., 0., 0., 0., 0., 0., 0., 0., 0., 0., 0., 0., 0., 0., 0., 0.,\n",
              "        0., 0., 0., 0., 0., 0., 0., 0., 0., 0., 0.], dtype=float32)]"
            ]
          },
          "metadata": {},
          "execution_count": 17
        }
      ]
    },
    {
      "cell_type": "code",
      "source": [
        "weights,biases = hidden1.get_weights()"
      ],
      "metadata": {
        "id": "JQjQ4t1jYeJ-"
      },
      "execution_count": null,
      "outputs": []
    },
    {
      "cell_type": "code",
      "source": [
        "weights.shape"
      ],
      "metadata": {
        "colab": {
          "base_uri": "https://localhost:8080/"
        },
        "id": "J4Ko5PJuYwFA",
        "outputId": "7ed1cb50-0924-414f-efcd-5c148eed7405"
      },
      "execution_count": null,
      "outputs": [
        {
          "output_type": "execute_result",
          "data": {
            "text/plain": [
              "(784, 300)"
            ]
          },
          "metadata": {},
          "execution_count": 19
        }
      ]
    },
    {
      "cell_type": "code",
      "source": [
        "biases.shape"
      ],
      "metadata": {
        "colab": {
          "base_uri": "https://localhost:8080/"
        },
        "id": "8qmXvRXDY3zl",
        "outputId": "6bcbd38c-37b1-4aa1-f0d6-f915e21cad93"
      },
      "execution_count": null,
      "outputs": [
        {
          "output_type": "execute_result",
          "data": {
            "text/plain": [
              "(300,)"
            ]
          },
          "metadata": {},
          "execution_count": 20
        }
      ]
    },
    {
      "cell_type": "markdown",
      "source": [
        "loss_function (actual, predicted) = eror\n"
      ],
      "metadata": {
        "id": "thPIJcFLe_y3"
      }
    },
    {
      "cell_type": "code",
      "source": [
        "LOSS_FUNCTION = \"sparse_categorical_crossentropy\"\n",
        "OPTIMIZER = \"SGD\"\n",
        "METRICS = [\"accuracy\"]\n",
        "model.compile(loss= LOSS_FUNCTION,\n",
        "              optimizer = OPTIMIZER,\n",
        "              metrics = METRICS)"
      ],
      "metadata": {
        "id": "adTDxIxnY7Fc"
      },
      "execution_count": null,
      "outputs": []
    },
    {
      "cell_type": "markdown",
      "source": [
        "*IMPORTANT-\n",
        "* **EPOCHS:** Integer\n",
        "Number of epochs to train the model.An epochs is an iteraion over the entire x and y data proided.\n",
        "**Batch size:** Integer or None.\n",
        "Number of samples per gradient update. If unspecified,  batch_size will default to 32.\n",
        "NOTE: DO NOT specify the batch_size if your data is in the form of datasets, generators, or keras.utils.Sequence instances(since they generate batches).\n",
        "**Validation_batch_size ** : Integer or None.\n",
        "Number of samples per validation bathc.\n",
        "If unspecified, will default to batch_size.\n",
        "NOTE: Do not specfy the validation_batch_size if your data is in the form of datasets, generators,or keras.utils.Sequence instances(since they generate batches).\n"
      ],
      "metadata": {
        "id": "1u4ftzS6f9nB"
      }
    },
    {
      "cell_type": "code",
      "source": [
        "EPOCHS =30\n",
        "VALIDATION_SET =(X_valid, y_valid)\n",
        "\n",
        "history = model.fit(X_train, y_train,\n",
        "                    epochs=EPOCHS,\n",
        "                    validation_data = VALIDATION_SET)"
      ],
      "metadata": {
        "colab": {
          "base_uri": "https://localhost:8080/"
        },
        "id": "9MZWpSbHfArB",
        "outputId": "1f16b10a-ae7d-4e06-dd46-730a38870a89"
      },
      "execution_count": null,
      "outputs": [
        {
          "output_type": "stream",
          "name": "stdout",
          "text": [
            "Epoch 1/30\n",
            "1719/1719 [==============================] - 9s 3ms/step - loss: 0.6152 - accuracy: 0.8404 - val_loss: 0.3043 - val_accuracy: 0.9178\n",
            "Epoch 2/30\n",
            "1719/1719 [==============================] - 5s 3ms/step - loss: 0.2866 - accuracy: 0.9178 - val_loss: 0.2395 - val_accuracy: 0.9326\n",
            "Epoch 3/30\n",
            "1719/1719 [==============================] - 5s 3ms/step - loss: 0.2359 - accuracy: 0.9329 - val_loss: 0.2064 - val_accuracy: 0.9422\n",
            "Epoch 4/30\n",
            "1719/1719 [==============================] - 5s 3ms/step - loss: 0.2018 - accuracy: 0.9421 - val_loss: 0.1869 - val_accuracy: 0.9478\n",
            "Epoch 5/30\n",
            "1719/1719 [==============================] - 5s 3ms/step - loss: 0.1766 - accuracy: 0.9491 - val_loss: 0.1653 - val_accuracy: 0.9546\n",
            "Epoch 6/30\n",
            "1719/1719 [==============================] - 5s 3ms/step - loss: 0.1566 - accuracy: 0.9551 - val_loss: 0.1458 - val_accuracy: 0.9584\n",
            "Epoch 7/30\n",
            "1719/1719 [==============================] - 5s 3ms/step - loss: 0.1400 - accuracy: 0.9603 - val_loss: 0.1356 - val_accuracy: 0.9622\n",
            "Epoch 8/30\n",
            "1719/1719 [==============================] - 5s 3ms/step - loss: 0.1263 - accuracy: 0.9644 - val_loss: 0.1247 - val_accuracy: 0.9654\n",
            "Epoch 9/30\n",
            "1719/1719 [==============================] - 5s 3ms/step - loss: 0.1153 - accuracy: 0.9681 - val_loss: 0.1206 - val_accuracy: 0.9658\n",
            "Epoch 10/30\n",
            "1719/1719 [==============================] - 5s 3ms/step - loss: 0.1049 - accuracy: 0.9707 - val_loss: 0.1103 - val_accuracy: 0.9702\n",
            "Epoch 11/30\n",
            "1719/1719 [==============================] - 5s 3ms/step - loss: 0.0966 - accuracy: 0.9733 - val_loss: 0.1096 - val_accuracy: 0.9690\n",
            "Epoch 12/30\n",
            "1719/1719 [==============================] - 6s 4ms/step - loss: 0.0889 - accuracy: 0.9755 - val_loss: 0.1044 - val_accuracy: 0.9710\n",
            "Epoch 13/30\n",
            "1719/1719 [==============================] - 5s 3ms/step - loss: 0.0824 - accuracy: 0.9769 - val_loss: 0.0966 - val_accuracy: 0.9734\n",
            "Epoch 14/30\n",
            "1719/1719 [==============================] - 5s 3ms/step - loss: 0.0765 - accuracy: 0.9788 - val_loss: 0.0939 - val_accuracy: 0.9736\n",
            "Epoch 15/30\n",
            "1719/1719 [==============================] - 5s 3ms/step - loss: 0.0711 - accuracy: 0.9805 - val_loss: 0.0916 - val_accuracy: 0.9746\n",
            "Epoch 16/30\n",
            "1719/1719 [==============================] - 5s 3ms/step - loss: 0.0666 - accuracy: 0.9820 - val_loss: 0.0873 - val_accuracy: 0.9754\n",
            "Epoch 17/30\n",
            "1719/1719 [==============================] - 5s 3ms/step - loss: 0.0619 - accuracy: 0.9831 - val_loss: 0.0838 - val_accuracy: 0.9764\n",
            "Epoch 18/30\n",
            "1719/1719 [==============================] - 5s 3ms/step - loss: 0.0579 - accuracy: 0.9844 - val_loss: 0.0818 - val_accuracy: 0.9762\n",
            "Epoch 19/30\n",
            "1719/1719 [==============================] - 5s 3ms/step - loss: 0.0541 - accuracy: 0.9857 - val_loss: 0.0821 - val_accuracy: 0.9752\n",
            "Epoch 20/30\n",
            "1719/1719 [==============================] - 5s 3ms/step - loss: 0.0511 - accuracy: 0.9865 - val_loss: 0.0795 - val_accuracy: 0.9780\n",
            "Epoch 21/30\n",
            "1248/1719 [====================>.........] - ETA: 1s - loss: 0.0478 - accuracy: 0.9876"
          ]
        }
      ]
    },
    {
      "cell_type": "code",
      "source": [
        "55000/32"
      ],
      "metadata": {
        "id": "VBVmkNJjfAu6"
      },
      "execution_count": null,
      "outputs": []
    },
    {
      "cell_type": "code",
      "source": [
        "model.evaluate(X_test, y_test)"
      ],
      "metadata": {
        "id": "25L7EsSeyl-4"
      },
      "execution_count": null,
      "outputs": []
    },
    {
      "cell_type": "code",
      "source": [
        "model.save(\"model.h5\")"
      ],
      "metadata": {
        "id": "Oz5TXTdfymDy"
      },
      "execution_count": null,
      "outputs": []
    },
    {
      "cell_type": "code",
      "source": [
        "loaded_model = tf.keras.models.load_model(\"model.h5\")"
      ],
      "metadata": {
        "id": "cxi463hbymIJ"
      },
      "execution_count": null,
      "outputs": []
    },
    {
      "cell_type": "code",
      "source": [
        "loaded_model.evaluate(X_test,y_test)"
      ],
      "metadata": {
        "id": "ZzhyiJ0BymMd",
        "colab": {
          "base_uri": "https://localhost:8080/"
        },
        "outputId": "eb11db1e-a9dc-4546-b102-cd0bc5be332b"
      },
      "execution_count": null,
      "outputs": [
        {
          "metadata": {
            "tags": null
          },
          "name": "stdout",
          "output_type": "stream",
          "text": [
            "313/313 [==============================] - 1s 2ms/step - loss: 0.0706 - accuracy: 0.9796\n"
          ]
        },
        {
          "data": {
            "text/plain": [
              "[0.07061708718538284, 0.9796000123023987]"
            ]
          },
          "execution_count": 27,
          "metadata": {},
          "output_type": "execute_result"
        }
      ]
    },
    {
      "cell_type": "code",
      "source": [
        "history"
      ],
      "metadata": {
        "id": "H-Dr4zYXzh42",
        "colab": {
          "base_uri": "https://localhost:8080/"
        },
        "outputId": "37daa70f-e092-4181-bef3-654f80891779"
      },
      "execution_count": null,
      "outputs": [
        {
          "data": {
            "text/plain": [
              "<keras.callbacks.History at 0x7f116074c3d0>"
            ]
          },
          "execution_count": 28,
          "metadata": {},
          "output_type": "execute_result"
        }
      ]
    },
    {
      "cell_type": "code",
      "source": [
        "history.history"
      ],
      "metadata": {
        "id": "S1RpTihZzmJ4",
        "colab": {
          "base_uri": "https://localhost:8080/"
        },
        "outputId": "df17e22f-0913-4994-dfc8-7c09f662abc2"
      },
      "execution_count": null,
      "outputs": [
        {
          "data": {
            "text/plain": [
              "{'loss': [0.6152418255805969,\n",
              "  0.2866286337375641,\n",
              "  0.2359287589788437,\n",
              "  0.20180077850818634,\n",
              "  0.17655837535858154,\n",
              "  0.15655188262462616,\n",
              "  0.13998833298683167,\n",
              "  0.12632526457309723,\n",
              "  0.11528588086366653,\n",
              "  0.10494877398014069,\n",
              "  0.09656494110822678,\n",
              "  0.0889098271727562,\n",
              "  0.08236465603113174,\n",
              "  0.0764831155538559,\n",
              "  0.07113979011774063,\n",
              "  0.06657230854034424,\n",
              "  0.06194435805082321,\n",
              "  0.05789637938141823,\n",
              "  0.05411157384514809,\n",
              "  0.05110413581132889,\n",
              "  0.048164963722229004,\n",
              "  0.044981032609939575,\n",
              "  0.042254429310560226,\n",
              "  0.039618898183107376,\n",
              "  0.03759998828172684,\n",
              "  0.03523171693086624,\n",
              "  0.0333278626203537,\n",
              "  0.03131451457738876,\n",
              "  0.029625963419675827,\n",
              "  0.027976373210549355],\n",
              " 'accuracy': [0.840399980545044,\n",
              "  0.9177818298339844,\n",
              "  0.9328545331954956,\n",
              "  0.9421091079711914,\n",
              "  0.9491454362869263,\n",
              "  0.9550908803939819,\n",
              "  0.9602909088134766,\n",
              "  0.9643818140029907,\n",
              "  0.9680545330047607,\n",
              "  0.9706727266311646,\n",
              "  0.9732909202575684,\n",
              "  0.975490927696228,\n",
              "  0.9768727421760559,\n",
              "  0.9787818193435669,\n",
              "  0.9805091023445129,\n",
              "  0.9819636344909668,\n",
              "  0.9831454753875732,\n",
              "  0.9844363927841187,\n",
              "  0.9856908917427063,\n",
              "  0.9864909052848816,\n",
              "  0.9875090718269348,\n",
              "  0.9883454442024231,\n",
              "  0.9892727136611938,\n",
              "  0.9899454712867737,\n",
              "  0.9904909133911133,\n",
              "  0.991599977016449,\n",
              "  0.9918727278709412,\n",
              "  0.9924545288085938,\n",
              "  0.9933454394340515,\n",
              "  0.9934727549552917],\n",
              " 'val_loss': [0.3042788505554199,\n",
              "  0.23945310711860657,\n",
              "  0.2064177542924881,\n",
              "  0.18685424327850342,\n",
              "  0.16527476906776428,\n",
              "  0.14584282040596008,\n",
              "  0.13564492762088776,\n",
              "  0.12465118616819382,\n",
              "  0.1205667108297348,\n",
              "  0.11029328405857086,\n",
              "  0.10958632826805115,\n",
              "  0.10438332706689835,\n",
              "  0.09661417454481125,\n",
              "  0.09388364851474762,\n",
              "  0.0915575623512268,\n",
              "  0.08731865882873535,\n",
              "  0.08381570130586624,\n",
              "  0.08183769881725311,\n",
              "  0.08213356137275696,\n",
              "  0.07952588051557541,\n",
              "  0.07583868503570557,\n",
              "  0.0774737074971199,\n",
              "  0.07531378418207169,\n",
              "  0.07280878722667694,\n",
              "  0.07324967533349991,\n",
              "  0.07198720425367355,\n",
              "  0.07014893740415573,\n",
              "  0.07044390588998795,\n",
              "  0.07099530845880508,\n",
              "  0.06958969682455063],\n",
              " 'val_accuracy': [0.9178000092506409,\n",
              "  0.9326000213623047,\n",
              "  0.9422000050544739,\n",
              "  0.9477999806404114,\n",
              "  0.9545999765396118,\n",
              "  0.9584000110626221,\n",
              "  0.9621999859809875,\n",
              "  0.965399980545044,\n",
              "  0.9657999873161316,\n",
              "  0.9702000021934509,\n",
              "  0.968999981880188,\n",
              "  0.9710000157356262,\n",
              "  0.9733999967575073,\n",
              "  0.9735999703407288,\n",
              "  0.9746000170707703,\n",
              "  0.9753999710083008,\n",
              "  0.9764000177383423,\n",
              "  0.9761999845504761,\n",
              "  0.9751999974250793,\n",
              "  0.9779999852180481,\n",
              "  0.9778000116348267,\n",
              "  0.9778000116348267,\n",
              "  0.9783999919891357,\n",
              "  0.9796000123023987,\n",
              "  0.978600025177002,\n",
              "  0.9787999987602234,\n",
              "  0.9783999919891357,\n",
              "  0.9797999858856201,\n",
              "  0.9793999791145325,\n",
              "  0.980400025844574]}"
            ]
          },
          "execution_count": 29,
          "metadata": {},
          "output_type": "execute_result"
        }
      ]
    },
    {
      "cell_type": "code",
      "source": [
        "pd.DataFrame(history.history)"
      ],
      "metadata": {
        "id": "L7v97iLAzqMj",
        "colab": {
          "base_uri": "https://localhost:8080/",
          "height": 990
        },
        "outputId": "ff30f6e2-3b11-4d29-80c7-27a197b98f25"
      },
      "execution_count": null,
      "outputs": [
        {
          "data": {
            "text/html": [
              "\n",
              "  <div id=\"df-30ba2629-6b1a-426b-83a3-804500fcca6e\">\n",
              "    <div class=\"colab-df-container\">\n",
              "      <div>\n",
              "<style scoped>\n",
              "    .dataframe tbody tr th:only-of-type {\n",
              "        vertical-align: middle;\n",
              "    }\n",
              "\n",
              "    .dataframe tbody tr th {\n",
              "        vertical-align: top;\n",
              "    }\n",
              "\n",
              "    .dataframe thead th {\n",
              "        text-align: right;\n",
              "    }\n",
              "</style>\n",
              "<table border=\"1\" class=\"dataframe\">\n",
              "  <thead>\n",
              "    <tr style=\"text-align: right;\">\n",
              "      <th></th>\n",
              "      <th>loss</th>\n",
              "      <th>accuracy</th>\n",
              "      <th>val_loss</th>\n",
              "      <th>val_accuracy</th>\n",
              "    </tr>\n",
              "  </thead>\n",
              "  <tbody>\n",
              "    <tr>\n",
              "      <th>0</th>\n",
              "      <td>0.615242</td>\n",
              "      <td>0.840400</td>\n",
              "      <td>0.304279</td>\n",
              "      <td>0.9178</td>\n",
              "    </tr>\n",
              "    <tr>\n",
              "      <th>1</th>\n",
              "      <td>0.286629</td>\n",
              "      <td>0.917782</td>\n",
              "      <td>0.239453</td>\n",
              "      <td>0.9326</td>\n",
              "    </tr>\n",
              "    <tr>\n",
              "      <th>2</th>\n",
              "      <td>0.235929</td>\n",
              "      <td>0.932855</td>\n",
              "      <td>0.206418</td>\n",
              "      <td>0.9422</td>\n",
              "    </tr>\n",
              "    <tr>\n",
              "      <th>3</th>\n",
              "      <td>0.201801</td>\n",
              "      <td>0.942109</td>\n",
              "      <td>0.186854</td>\n",
              "      <td>0.9478</td>\n",
              "    </tr>\n",
              "    <tr>\n",
              "      <th>4</th>\n",
              "      <td>0.176558</td>\n",
              "      <td>0.949145</td>\n",
              "      <td>0.165275</td>\n",
              "      <td>0.9546</td>\n",
              "    </tr>\n",
              "    <tr>\n",
              "      <th>5</th>\n",
              "      <td>0.156552</td>\n",
              "      <td>0.955091</td>\n",
              "      <td>0.145843</td>\n",
              "      <td>0.9584</td>\n",
              "    </tr>\n",
              "    <tr>\n",
              "      <th>6</th>\n",
              "      <td>0.139988</td>\n",
              "      <td>0.960291</td>\n",
              "      <td>0.135645</td>\n",
              "      <td>0.9622</td>\n",
              "    </tr>\n",
              "    <tr>\n",
              "      <th>7</th>\n",
              "      <td>0.126325</td>\n",
              "      <td>0.964382</td>\n",
              "      <td>0.124651</td>\n",
              "      <td>0.9654</td>\n",
              "    </tr>\n",
              "    <tr>\n",
              "      <th>8</th>\n",
              "      <td>0.115286</td>\n",
              "      <td>0.968055</td>\n",
              "      <td>0.120567</td>\n",
              "      <td>0.9658</td>\n",
              "    </tr>\n",
              "    <tr>\n",
              "      <th>9</th>\n",
              "      <td>0.104949</td>\n",
              "      <td>0.970673</td>\n",
              "      <td>0.110293</td>\n",
              "      <td>0.9702</td>\n",
              "    </tr>\n",
              "    <tr>\n",
              "      <th>10</th>\n",
              "      <td>0.096565</td>\n",
              "      <td>0.973291</td>\n",
              "      <td>0.109586</td>\n",
              "      <td>0.9690</td>\n",
              "    </tr>\n",
              "    <tr>\n",
              "      <th>11</th>\n",
              "      <td>0.088910</td>\n",
              "      <td>0.975491</td>\n",
              "      <td>0.104383</td>\n",
              "      <td>0.9710</td>\n",
              "    </tr>\n",
              "    <tr>\n",
              "      <th>12</th>\n",
              "      <td>0.082365</td>\n",
              "      <td>0.976873</td>\n",
              "      <td>0.096614</td>\n",
              "      <td>0.9734</td>\n",
              "    </tr>\n",
              "    <tr>\n",
              "      <th>13</th>\n",
              "      <td>0.076483</td>\n",
              "      <td>0.978782</td>\n",
              "      <td>0.093884</td>\n",
              "      <td>0.9736</td>\n",
              "    </tr>\n",
              "    <tr>\n",
              "      <th>14</th>\n",
              "      <td>0.071140</td>\n",
              "      <td>0.980509</td>\n",
              "      <td>0.091558</td>\n",
              "      <td>0.9746</td>\n",
              "    </tr>\n",
              "    <tr>\n",
              "      <th>15</th>\n",
              "      <td>0.066572</td>\n",
              "      <td>0.981964</td>\n",
              "      <td>0.087319</td>\n",
              "      <td>0.9754</td>\n",
              "    </tr>\n",
              "    <tr>\n",
              "      <th>16</th>\n",
              "      <td>0.061944</td>\n",
              "      <td>0.983145</td>\n",
              "      <td>0.083816</td>\n",
              "      <td>0.9764</td>\n",
              "    </tr>\n",
              "    <tr>\n",
              "      <th>17</th>\n",
              "      <td>0.057896</td>\n",
              "      <td>0.984436</td>\n",
              "      <td>0.081838</td>\n",
              "      <td>0.9762</td>\n",
              "    </tr>\n",
              "    <tr>\n",
              "      <th>18</th>\n",
              "      <td>0.054112</td>\n",
              "      <td>0.985691</td>\n",
              "      <td>0.082134</td>\n",
              "      <td>0.9752</td>\n",
              "    </tr>\n",
              "    <tr>\n",
              "      <th>19</th>\n",
              "      <td>0.051104</td>\n",
              "      <td>0.986491</td>\n",
              "      <td>0.079526</td>\n",
              "      <td>0.9780</td>\n",
              "    </tr>\n",
              "    <tr>\n",
              "      <th>20</th>\n",
              "      <td>0.048165</td>\n",
              "      <td>0.987509</td>\n",
              "      <td>0.075839</td>\n",
              "      <td>0.9778</td>\n",
              "    </tr>\n",
              "    <tr>\n",
              "      <th>21</th>\n",
              "      <td>0.044981</td>\n",
              "      <td>0.988345</td>\n",
              "      <td>0.077474</td>\n",
              "      <td>0.9778</td>\n",
              "    </tr>\n",
              "    <tr>\n",
              "      <th>22</th>\n",
              "      <td>0.042254</td>\n",
              "      <td>0.989273</td>\n",
              "      <td>0.075314</td>\n",
              "      <td>0.9784</td>\n",
              "    </tr>\n",
              "    <tr>\n",
              "      <th>23</th>\n",
              "      <td>0.039619</td>\n",
              "      <td>0.989945</td>\n",
              "      <td>0.072809</td>\n",
              "      <td>0.9796</td>\n",
              "    </tr>\n",
              "    <tr>\n",
              "      <th>24</th>\n",
              "      <td>0.037600</td>\n",
              "      <td>0.990491</td>\n",
              "      <td>0.073250</td>\n",
              "      <td>0.9786</td>\n",
              "    </tr>\n",
              "    <tr>\n",
              "      <th>25</th>\n",
              "      <td>0.035232</td>\n",
              "      <td>0.991600</td>\n",
              "      <td>0.071987</td>\n",
              "      <td>0.9788</td>\n",
              "    </tr>\n",
              "    <tr>\n",
              "      <th>26</th>\n",
              "      <td>0.033328</td>\n",
              "      <td>0.991873</td>\n",
              "      <td>0.070149</td>\n",
              "      <td>0.9784</td>\n",
              "    </tr>\n",
              "    <tr>\n",
              "      <th>27</th>\n",
              "      <td>0.031315</td>\n",
              "      <td>0.992455</td>\n",
              "      <td>0.070444</td>\n",
              "      <td>0.9798</td>\n",
              "    </tr>\n",
              "    <tr>\n",
              "      <th>28</th>\n",
              "      <td>0.029626</td>\n",
              "      <td>0.993345</td>\n",
              "      <td>0.070995</td>\n",
              "      <td>0.9794</td>\n",
              "    </tr>\n",
              "    <tr>\n",
              "      <th>29</th>\n",
              "      <td>0.027976</td>\n",
              "      <td>0.993473</td>\n",
              "      <td>0.069590</td>\n",
              "      <td>0.9804</td>\n",
              "    </tr>\n",
              "  </tbody>\n",
              "</table>\n",
              "</div>\n",
              "      <button class=\"colab-df-convert\" onclick=\"convertToInteractive('df-30ba2629-6b1a-426b-83a3-804500fcca6e')\"\n",
              "              title=\"Convert this dataframe to an interactive table.\"\n",
              "              style=\"display:none;\">\n",
              "        \n",
              "  <svg xmlns=\"http://www.w3.org/2000/svg\" height=\"24px\"viewBox=\"0 0 24 24\"\n",
              "       width=\"24px\">\n",
              "    <path d=\"M0 0h24v24H0V0z\" fill=\"none\"/>\n",
              "    <path d=\"M18.56 5.44l.94 2.06.94-2.06 2.06-.94-2.06-.94-.94-2.06-.94 2.06-2.06.94zm-11 1L8.5 8.5l.94-2.06 2.06-.94-2.06-.94L8.5 2.5l-.94 2.06-2.06.94zm10 10l.94 2.06.94-2.06 2.06-.94-2.06-.94-.94-2.06-.94 2.06-2.06.94z\"/><path d=\"M17.41 7.96l-1.37-1.37c-.4-.4-.92-.59-1.43-.59-.52 0-1.04.2-1.43.59L10.3 9.45l-7.72 7.72c-.78.78-.78 2.05 0 2.83L4 21.41c.39.39.9.59 1.41.59.51 0 1.02-.2 1.41-.59l7.78-7.78 2.81-2.81c.8-.78.8-2.07 0-2.86zM5.41 20L4 18.59l7.72-7.72 1.47 1.35L5.41 20z\"/>\n",
              "  </svg>\n",
              "      </button>\n",
              "      \n",
              "  <style>\n",
              "    .colab-df-container {\n",
              "      display:flex;\n",
              "      flex-wrap:wrap;\n",
              "      gap: 12px;\n",
              "    }\n",
              "\n",
              "    .colab-df-convert {\n",
              "      background-color: #E8F0FE;\n",
              "      border: none;\n",
              "      border-radius: 50%;\n",
              "      cursor: pointer;\n",
              "      display: none;\n",
              "      fill: #1967D2;\n",
              "      height: 32px;\n",
              "      padding: 0 0 0 0;\n",
              "      width: 32px;\n",
              "    }\n",
              "\n",
              "    .colab-df-convert:hover {\n",
              "      background-color: #E2EBFA;\n",
              "      box-shadow: 0px 1px 2px rgba(60, 64, 67, 0.3), 0px 1px 3px 1px rgba(60, 64, 67, 0.15);\n",
              "      fill: #174EA6;\n",
              "    }\n",
              "\n",
              "    [theme=dark] .colab-df-convert {\n",
              "      background-color: #3B4455;\n",
              "      fill: #D2E3FC;\n",
              "    }\n",
              "\n",
              "    [theme=dark] .colab-df-convert:hover {\n",
              "      background-color: #434B5C;\n",
              "      box-shadow: 0px 1px 3px 1px rgba(0, 0, 0, 0.15);\n",
              "      filter: drop-shadow(0px 1px 2px rgba(0, 0, 0, 0.3));\n",
              "      fill: #FFFFFF;\n",
              "    }\n",
              "  </style>\n",
              "\n",
              "      <script>\n",
              "        const buttonEl =\n",
              "          document.querySelector('#df-30ba2629-6b1a-426b-83a3-804500fcca6e button.colab-df-convert');\n",
              "        buttonEl.style.display =\n",
              "          google.colab.kernel.accessAllowed ? 'block' : 'none';\n",
              "\n",
              "        async function convertToInteractive(key) {\n",
              "          const element = document.querySelector('#df-30ba2629-6b1a-426b-83a3-804500fcca6e');\n",
              "          const dataTable =\n",
              "            await google.colab.kernel.invokeFunction('convertToInteractive',\n",
              "                                                     [key], {});\n",
              "          if (!dataTable) return;\n",
              "\n",
              "          const docLinkHtml = 'Like what you see? Visit the ' +\n",
              "            '<a target=\"_blank\" href=https://colab.research.google.com/notebooks/data_table.ipynb>data table notebook</a>'\n",
              "            + ' to learn more about interactive tables.';\n",
              "          element.innerHTML = '';\n",
              "          dataTable['output_type'] = 'display_data';\n",
              "          await google.colab.output.renderOutput(dataTable, element);\n",
              "          const docLink = document.createElement('div');\n",
              "          docLink.innerHTML = docLinkHtml;\n",
              "          element.appendChild(docLink);\n",
              "        }\n",
              "      </script>\n",
              "    </div>\n",
              "  </div>\n",
              "  "
            ],
            "text/plain": [
              "        loss  accuracy  val_loss  val_accuracy\n",
              "0   0.615242  0.840400  0.304279        0.9178\n",
              "1   0.286629  0.917782  0.239453        0.9326\n",
              "2   0.235929  0.932855  0.206418        0.9422\n",
              "3   0.201801  0.942109  0.186854        0.9478\n",
              "4   0.176558  0.949145  0.165275        0.9546\n",
              "5   0.156552  0.955091  0.145843        0.9584\n",
              "6   0.139988  0.960291  0.135645        0.9622\n",
              "7   0.126325  0.964382  0.124651        0.9654\n",
              "8   0.115286  0.968055  0.120567        0.9658\n",
              "9   0.104949  0.970673  0.110293        0.9702\n",
              "10  0.096565  0.973291  0.109586        0.9690\n",
              "11  0.088910  0.975491  0.104383        0.9710\n",
              "12  0.082365  0.976873  0.096614        0.9734\n",
              "13  0.076483  0.978782  0.093884        0.9736\n",
              "14  0.071140  0.980509  0.091558        0.9746\n",
              "15  0.066572  0.981964  0.087319        0.9754\n",
              "16  0.061944  0.983145  0.083816        0.9764\n",
              "17  0.057896  0.984436  0.081838        0.9762\n",
              "18  0.054112  0.985691  0.082134        0.9752\n",
              "19  0.051104  0.986491  0.079526        0.9780\n",
              "20  0.048165  0.987509  0.075839        0.9778\n",
              "21  0.044981  0.988345  0.077474        0.9778\n",
              "22  0.042254  0.989273  0.075314        0.9784\n",
              "23  0.039619  0.989945  0.072809        0.9796\n",
              "24  0.037600  0.990491  0.073250        0.9786\n",
              "25  0.035232  0.991600  0.071987        0.9788\n",
              "26  0.033328  0.991873  0.070149        0.9784\n",
              "27  0.031315  0.992455  0.070444        0.9798\n",
              "28  0.029626  0.993345  0.070995        0.9794\n",
              "29  0.027976  0.993473  0.069590        0.9804"
            ]
          },
          "execution_count": 30,
          "metadata": {},
          "output_type": "execute_result"
        }
      ]
    },
    {
      "cell_type": "code",
      "source": [
        "pd.DataFrame(history.history).plot(figsize=(8,5))\n",
        "plt.grid(True)\n",
        "plt.gca().set_ylim(0,1)\n",
        "plt.show()"
      ],
      "metadata": {
        "id": "B6qgO5Ztz1SW",
        "colab": {
          "base_uri": "https://localhost:8080/",
          "height": 324
        },
        "outputId": "400a834b-705d-40af-fcb3-5682a3ba9b5a"
      },
      "execution_count": null,
      "outputs": [
        {
          "data": {
            "image/png": "[encoded data removed]",
            "text/plain": [
              "<Figure size 576x360 with 1 Axes>"
            ]
          },
          "metadata": {},
          "output_type": "display_data"
        }
      ]
    },
    {
      "cell_type": "code",
      "source": [
        "X_new = X_test[:3]\n",
        "y_new = y_test[:3]\n",
        "\n",
        "y_proba = model.predict(X_new)\n",
        "y_proba"
      ],
      "metadata": {
        "id": "cWOPcZVX0KBG",
        "colab": {
          "base_uri": "https://localhost:8080/"
        },
        "outputId": "78896c18-0f34-4f4a-9348-3fc89aef00d1"
      },
      "execution_count": null,
      "outputs": [
        {
          "metadata": {
            "tags": null
          },
          "name": "stdout",
          "output_type": "stream",
          "text": [
            "1/1 [==============================] - 0s 69ms/step\n"
          ]
        },
        {
          "data": {
            "text/plain": [
              "array([[7.7608647e-06, 4.1941178e-08, 3.1302145e-04, 4.5661064e-04,\n",
              "        3.9149665e-08, 3.9698170e-06, 2.4817835e-11, 9.9916673e-01,\n",
              "        2.3423163e-05, 2.8346811e-05],\n",
              "       [3.5008588e-07, 5.0790736e-04, 9.9940908e-01, 7.0627837e-05,\n",
              "        6.3269390e-11, 5.7205875e-07, 8.9373234e-06, 2.4207348e-12,\n",
              "        2.5119962e-06, 2.5059406e-13],\n",
              "       [4.6584173e-06, 9.9832636e-01, 1.9367589e-04, 3.6476758e-05,\n",
              "        1.0672222e-04, 9.4360395e-05, 8.0488739e-05, 2.8596484e-04,\n",
              "        8.5294194e-04, 1.8343222e-05]], dtype=float32)"
            ]
          },
          "execution_count": 32,
          "metadata": {},
          "output_type": "execute_result"
        }
      ]
    },
    {
      "cell_type": "code",
      "source": [
        "y_proba.round(2)"
      ],
      "metadata": {
        "id": "CRAmCB-r0p3s",
        "colab": {
          "base_uri": "https://localhost:8080/"
        },
        "outputId": "1fdf78dc-e671-431a-ece4-d9875f3095f8"
      },
      "execution_count": null,
      "outputs": [
        {
          "data": {
            "text/plain": [
              "array([[0., 0., 0., 0., 0., 0., 0., 1., 0., 0.],\n",
              "       [0., 0., 1., 0., 0., 0., 0., 0., 0., 0.],\n",
              "       [0., 1., 0., 0., 0., 0., 0., 0., 0., 0.]], dtype=float32)"
            ]
          },
          "execution_count": 33,
          "metadata": {},
          "output_type": "execute_result"
        }
      ]
    },
    {
      "cell_type": "code",
      "source": [
        "y_pred = np.argmax(y_proba, axis = -1)\n",
        "y_pred,y_new\n"
      ],
      "metadata": {
        "id": "hZGKkbrS0xZo",
        "colab": {
          "base_uri": "https://localhost:8080/"
        },
        "outputId": "3b922555-a221-4636-a236-9111620358c4"
      },
      "execution_count": null,
      "outputs": [
        {
          "data": {
            "text/plain": [
              "(array([7, 2, 1]), array([7, 2, 1], dtype=uint8))"
            ]
          },
          "execution_count": 34,
          "metadata": {},
          "output_type": "execute_result"
        }
      ]
    },
    {
      "cell_type": "code",
      "source": [
        "for data, pred, actual in zip(X_new,y_pred, y_new):\n",
        "  plt.imshow(data,cmap=\"binary\")\n",
        "  plt.title(f\"Predicted: {pred},Actual: {actual}\")\n",
        "  plt.axis(\"off\")\n",
        "  plt.show()\n",
        "  print(\"---\"*20)"
      ],
      "metadata": {
        "id": "iuU1gVBO06DJ",
        "colab": {
          "base_uri": "https://localhost:8080/",
          "height": 812
        },
        "outputId": "f4dcf3ed-0ae0-4a76-f3e0-23f591e9a1ac"
      },
      "execution_count": null,
      "outputs": [
        {
          "data": {
            "image/png": "[encoded data removed]",
            "text/plain": [
              "<Figure size 432x288 with 1 Axes>"
            ]
          },
          "metadata": {},
          "output_type": "display_data"
        },
        {
          "metadata": {
            "tags": null
          },
          "name": "stdout",
          "output_type": "stream",
          "text": [
            "------------------------------------------------------------\n"
          ]
        },
        {
          "data": {
            "image/png": "[encoded data removed]",
            "text/plain": [
              "<Figure size 432x288 with 1 Axes>"
            ]
          },
          "metadata": {},
          "output_type": "display_data"
        },
        {
          "metadata": {
            "tags": null
          },
          "name": "stdout",
          "output_type": "stream",
          "text": [
            "------------------------------------------------------------\n"
          ]
        },
        {
          "data": {
            "image/png": "[encoded data removed]",
            "text/plain": [
              "<Figure size 432x288 with 1 Axes>"
            ]
          },
          "metadata": {},
          "output_type": "display_data"
        },
        {
          "metadata": {
            "tags": null
          },
          "name": "stdout",
          "output_type": "stream",
          "text": [
            "------------------------------------------------------------\n"
          ]
        }
      ]
    },
    {
      "cell_type": "code",
      "source": [],
      "metadata": {
        "id": "rtzUfmzD1_xO"
      },
      "execution_count": null,
      "outputs": []
    }
  ]
}